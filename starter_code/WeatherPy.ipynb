{
 "cells": [
  {
   "cell_type": "markdown",
   "metadata": {},
   "source": [
    "# Observations and Insights\n",
    "    From the data gathered, there were no cities with a humidity of over 100%.  Even though there weren't any over 100%, 559 cities had humidities that equaled 100% and 539 had values under 100%.  There were more cities with 100% than cities below 100% humidity.\n",
    "    When looking at the maximum temperature of the Northern Hemisphere to it's latitude linear regression, the line equation y = -1.5x + 100.2 in the data states that the temperature goes down the further East you go.  This is represented by the negative -1.5 slope of the line.   \n",
    "    On the other side, the Southern Hemisphere had the opposite effect. It's data shows that it's line equation in the data is y = 0.44x + 84.12.  With a positive slope of .44, this illustrates that the Max Temperature goes up the further East you go.\n"
   ]
  },
  {
   "cell_type": "markdown",
   "metadata": {},
   "source": [
    "# WeatherPy\n",
    "----\n",
    "\n",
    "#### Note\n",
    "* Instructions have been included for each segment. You do not have to follow them exactly, but they are included to help you think through the steps."
   ]
  },
  {
   "cell_type": "markdown",
   "metadata": {},
   "source": []
  },
  {
   "cell_type": "code",
   "execution_count": 1,
   "metadata": {
    "scrolled": true
   },
   "outputs": [
    {
     "ename": "ModuleNotFoundError",
     "evalue": "No module named 'api_keys'",
     "output_type": "error",
     "traceback": [
      "\u001b[1;31m---------------------------------------------------------------------------\u001b[0m",
      "\u001b[1;31mModuleNotFoundError\u001b[0m                       Traceback (most recent call last)",
      "\u001b[1;32m<ipython-input-1-c0930045bfe9>\u001b[0m in \u001b[0;36m<module>\u001b[1;34m\u001b[0m\n\u001b[0;32m      9\u001b[0m \u001b[1;33m\u001b[0m\u001b[0m\n\u001b[0;32m     10\u001b[0m \u001b[1;31m# Import API key\u001b[0m\u001b[1;33m\u001b[0m\u001b[1;33m\u001b[0m\u001b[1;33m\u001b[0m\u001b[0m\n\u001b[1;32m---> 11\u001b[1;33m \u001b[1;32mfrom\u001b[0m \u001b[0mapi_keys\u001b[0m \u001b[1;32mimport\u001b[0m \u001b[0mweather_api_key\u001b[0m\u001b[1;33m\u001b[0m\u001b[1;33m\u001b[0m\u001b[0m\n\u001b[0m\u001b[0;32m     12\u001b[0m \u001b[1;33m\u001b[0m\u001b[0m\n\u001b[0;32m     13\u001b[0m \u001b[1;31m# Incorporated citipy to determine city based on latitude and longitude\u001b[0m\u001b[1;33m\u001b[0m\u001b[1;33m\u001b[0m\u001b[1;33m\u001b[0m\u001b[0m\n",
      "\u001b[1;31mModuleNotFoundError\u001b[0m: No module named 'api_keys'"
     ]
    }
   ],
   "source": [
    "# pip install citipy\n",
    "# Dependencies and Setup\n",
    "import matplotlib.pyplot as plt\n",
    "import pandas as pd\n",
    "import numpy as np\n",
    "import requests\n",
    "import time\n",
    "from scipy.stats import linregress\n",
    "\n",
    "# Import API key\n",
    "from api_keys import weather_api_key\n",
    "\n",
    "# Incorporated citipy to determine city based on latitude and longitude\n",
    "from citipy import citipy\n",
    "\n",
    "# Output File (CSV)\n",
    "output_data_file = \"output_data/cities.csv\"\n",
    "\n",
    "# Range of latitudes and longitudes\n",
    "lat_range = (-90, 90)\n",
    "lng_range = (-180, 180)"
   ]
  },
  {
   "cell_type": "code",
   "execution_count": null,
   "metadata": {},
   "outputs": [],
   "source": [
    "print(weather_api_key)"
   ]
  },
  {
   "cell_type": "markdown",
   "metadata": {},
   "source": [
    "## Generate Cities List"
   ]
  },
  {
   "cell_type": "code",
   "execution_count": null,
   "metadata": {},
   "outputs": [],
   "source": [
    "# List for holding lat_lngs and cities\n",
    "lat_lngs = []\n",
    "cities = []\n",
    "\n",
    "# Create a set of random lat and lng combinations\n",
    "lats = np.random.uniform(lat_range[0], lat_range[1], size=1500)\n",
    "lngs = np.random.uniform(lng_range[0], lng_range[1], size=1500)\n",
    "lat_lngs = zip(lats, lngs)\n",
    "\n",
    "# Identify nearest city for each lat, lng combination\n",
    "for lat_lng in lat_lngs:\n",
    "    city = citipy.nearest_city(lat_lng[0], lat_lng[1]).city_name\n",
    "    \n",
    "    # If the city is unique, then add it to a our cities list\n",
    "    if city not in cities:\n",
    "        cities.append(city)\n",
    "\n",
    "# Print the city count to confirm sufficient count\n",
    "print(f\"The city count is {len(cities)}.\")"
   ]
  },
  {
   "cell_type": "markdown",
   "metadata": {},
   "source": [
    "### Perform API Calls\n",
    "* Perform a weather check on each city using a series of successive API calls.\n",
    "* Include a print log of each city as it'sbeing processed (with the city number and city name).\n"
   ]
  },
  {
   "cell_type": "code",
   "execution_count": null,
   "metadata": {},
   "outputs": [],
   "source": [
    "time.sleep(1)"
   ]
  },
  {
   "cell_type": "code",
   "execution_count": null,
   "metadata": {},
   "outputs": [],
   "source": [
    "# # # Create URL\n",
    "# # #url = \"http://api.openweathermap.org/data/2.5/forecast?id=524901&\"\n",
    "# # base_url = \"http://api.openweathermap.org/data/2.5/weather?\"\n",
    "# # units = \"Imperial\"\n",
    "# # query_url = base_url + \"units=\" + units + \"&appid=\" + weather_api_key\n",
    "\n",
    "# url = \"http://api.openweathermap.org/data/2.5/weather?units=Imperial&APPID=\" + weather_api_key\n",
    "\n",
    "# # Create an empty list for city data\n",
    "# city_data = []\n",
    "# # Print to logger\n",
    "# print(\"Beginning Data Retrieval\")     \n",
    "# print(\"-----------------------------\")\n",
    "\n",
    "# # Initialize counters\n",
    "# record_count = 1\n",
    "# #set_count = 1\n",
    "\n",
    "# # # Loop through all the cities in the list\n",
    "# #for i, city in enumerate(cities):\n",
    "# for city in cities:\n",
    "    \n",
    "# #     # Group cities in sets of 50 for logging purposes\n",
    "# #     if (i % 50 == 0 and i >= 50):\n",
    "# #     set_count += 1\n",
    "# #     record_count = 0\n",
    "        \n",
    "#     # Create endpoint URL for each city\n",
    "#     city_url = url + \"&q=\" + city \n",
    "#     # example: http://api.openweathermap.org/data/2.5/forecast?id=524901&units=Imperial&appid=5429f2392433cc4510c999f528bc608d&q=Atlanta\n",
    "    \n",
    "# #    record_count += 1\n",
    "    \n",
    "#     # Print record, set and city\n",
    "# #    print(\"Processing Record %s of Set %s | %s\" % (record_count, city)\")\n",
    "#     print(f\"Processing Record {record_count} | {city}\")\n",
    "    \n",
    "#     # Add 1 to record count\n",
    "#     record_count += 1\n",
    "    \n",
    "#     print(city_url)\n",
    "    \n",
    "#     # Run an API request for each city\n",
    "#     try:\n",
    "#         # Parse the JSON and retrieve data\n",
    "#         response = requests.get(city_url).json()\n",
    "        \n",
    "#         city_lat = response[\"coord\"][\"lat\"] # ,[\"city_lng\"],[\"city_temp\"],[\"city_max_temp\"],[\"city_humidity\"],[\"city_clouds\"],[\"city_wind\"],[\"city_country\"],[\"city_date\"]]\n",
    "#         city_lng = response[\"coord\"][\"lon\"]\n",
    "#         city_max_temp = response[\"main\"][\"temp_max\"]\n",
    "#         city_humidity = response[\"main\"][\"humidity\"]\n",
    "#         city_clouds = response[\"clouds\"][\"all\"]\n",
    "#         city_wind = respons[\"wind\"][\"speed\"]\n",
    "#         city_country = response[\"sys\"][\"country\"]\n",
    "#         city_date = response[\"dt\"]\n",
    "\n",
    "# #         # Append the data to the list\n",
    "# #         #new_list = response.append(city_lat[response])\n",
    "#         # Append the City information into city_data list\n",
    "#         city_data.append({\n",
    "#             \"City\": city, \n",
    "#             \"Lat\": city_lat, \n",
    "#             \"Lng\": city_lng, \n",
    "#             \"Max Temp\": city_max_temp,\n",
    "#             \"Humidity\": city_humidity,\n",
    "#             \"Cloudiness\": city_clouds,\n",
    "#             \"Wind Speed\": city_wind,\n",
    "#             \"Country\": city_country,\n",
    "#             \"Date\": city_date})\n",
    "\n",
    "# #    time.sleep(1) \n",
    "# #    If there's an error, skip the city\n",
    "#     except: #(KeyError,NameError,TypeError):\n",
    "#         print(f\"The city of '{city}' is not found. Skipping...\")\n",
    "#     pass\n",
    "    \n",
    "# # print(response)\n",
    "\n",
    "# # Print Loading Data is complete\n",
    "# print(f\"-----------------------------\")\n",
    "# print(f\"Data Retrieval Complete      \")\n",
    "# print(f\"-----------------------------\")"
   ]
  },
  {
   "cell_type": "code",
   "execution_count": null,
   "metadata": {},
   "outputs": [],
   "source": [
    "# # # Create URL\n",
    "# # #url = \"http://api.openweathermap.org/data/2.5/forecast?id=524901&\"\n",
    "# # base_url = \"http://api.openweathermap.org/data/2.5/weather?\"\n",
    "# # units = \"Imperial\"\n",
    "# # query_url = base_url + \"units=\" + units + \"&appid=\" + weather_api_key\n",
    "# Starting URL for Weather Map API Call\n",
    "url = \"http://api.openweathermap.org/data/2.5/weather?units=Imperial&APPID=\" + weather_api_key\n",
    "\n",
    "# Create an empty list for city data\n",
    "city_data = []\n",
    "\n",
    "# Print to logger\n",
    "print(\"Beginning Data Retrieval     \")\n",
    "print(\"-----------------------------\")\n",
    "\n",
    "# Initialize counters\n",
    "record_count = 1\n",
    "\n",
    "# Loop through all the cities in our list\n",
    "for city in cities:\n",
    "    \n",
    "    # Create endpoint URL for each city\n",
    "    city_url = url + \"&q=\" + city\n",
    "\n",
    "    # example: http://api.openweathermap.org/data/2.5/forecast?id=524901&units=Imperial&appid=5429f2392433cc4510c999f528bc608d&q=Atlanta\n",
    "    \n",
    "    print(f\"Processing Record '{record_count}' | '{city}'\")\n",
    "    \n",
    "    record_count = record_count + 1\n",
    "\n",
    "    print(city_url)\n",
    "    \n",
    "    # Run an API request for each city\n",
    "    try:\n",
    "        # Parse the JSON and retrieve data\n",
    "        response = requests.get(city_url).json()\n",
    "        \n",
    "        city_lat = response[\"coord\"][\"lat\"]\n",
    "        city_lng = response[\"coord\"][\"lon\"]\n",
    "        city_max_temp = response[\"main\"][\"temp_max\"]\n",
    "        city_humidity = response[\"main\"][\"humidity\"]\n",
    "        city_clouds = response[\"clouds\"][\"all\"]\n",
    "        city_wind = response[\"wind\"][\"speed\"]\n",
    "        city_country = response[\"sys\"][\"country\"]\n",
    "        city_date = response[\"dt\"]\n",
    "        \n",
    "        # Append the data to the list\n",
    "        city_data.append({\"City\": city,\n",
    "                         \"Lat\": city_lat,\n",
    "                         \"lng\": city_lng,\n",
    "                         \"Max Temp\": city_max_temp,\n",
    "                         \"Humidity\": city_humidity,\n",
    "                         \"Cloudiness\": city_clouds,\n",
    "                         \"Wind Speed\": city_wind,\n",
    "                         \"Country\": city_country,\n",
    "                         \"Date\": city_date})\n",
    "        \n",
    "    except:\n",
    "        print(f\"The city of '{city}' is not found. Skipping........\")\n",
    "    pass\n",
    "    \n",
    "# Print Loading Data is complete\n",
    "print(\"-----------------------------\")\n",
    "print(\"Data Retrieval Complete      \")\n",
    "print(\"-----------------------------\")"
   ]
  },
  {
   "cell_type": "code",
   "execution_count": null,
   "metadata": {},
   "outputs": [],
   "source": [
    "# # # OpenWeatherMap API Key\n",
    "# api_key = api_keys.api_key\n",
    "# from api_keys import weather_api_key\n",
    "# # Starting URL for Weather Map API Call\n",
    "# url = \"http://api.openweathermap.org/data/2.5/weather?units=Imperial&APPID=\" + api_key\n",
    "\n",
    "# # List of city data\n",
    "# city_data = []\n",
    "\n",
    "# # Print to logger\n",
    "# print(\"Beginning Data Retrieval     \")\n",
    "# print(\"-----------------------------\")\n",
    "\n",
    "# # Create counters\n",
    "# counter = 1\n",
    "\n",
    "# # Loop through all the cities in our list\n",
    "# for city in cities:\n",
    "    \n",
    "#     #Use URL plus name of city to connect to openweathermap.org's endpoint\n",
    "#     city_url = url + \"&q=\" + city\n",
    "#         #print each city\n",
    "#     print(f\"Processing Record {counter} | {city}\")\n",
    "    \n",
    "#     counter = counter + 1\n",
    "\n",
    "    \n",
    "#     # run API request inside try-catch and place data in json format\n",
    "#     try:\n",
    "#         #get data in json format\n",
    "#         city_weather = requests.get(city_url).json()\n",
    "        \n",
    "#         # parse data and place values into variables that will be used for creating a df\n",
    "#         city_lat = city_weather[\"coord\"][\"lat\"]\n",
    "#         city_lng = city_weather[\"coord\"][\"lon\"]\n",
    "#         city_max_temp = city_weather[\"main\"][\"temp_max\"]\n",
    "#         city_humidity = city_weather[\"main\"][\"humidity\"]\n",
    "#         city_clouds = city_weather[\"clouds\"][\"all\"]\n",
    "#         city_wind = city_weather[\"wind\"][\"speed\"]\n",
    "#         city_country = city_weather[\"sys\"][\"country\"]\n",
    "#         city_date = city_weather[\"dt\"]\n",
    "        \n",
    "#         #create dictionary using the data from openweathermap.org as the values\n",
    "#         city_data.append({\"City\": city,\n",
    "#                          \"Lat\": city_lat,\n",
    "#                          \"lng\": city_lng,\n",
    "#                          \"Max Temp\": city_max_temp,\n",
    "#                          \"Humidity\": city_humidity,\n",
    "#                          \"Cloudiness\": city_clouds,\n",
    "#                          \"Wind Speed\": city_wind,\n",
    "#                          \"Country\": city_country,\n",
    "#                          \"Date\": city_date})\n",
    "        \n",
    "#     except:\n",
    "#         print(f\"City {city} not found. Skipping to next city.\")\n",
    "#     pass\n",
    "    \n",
    "# # Indicate that Data Loading is complete \n",
    "# print(\"-----------------------------\")\n",
    "# print(\"Data Retrieval Complete      \")\n",
    "# print(\"-----------------------------\")"
   ]
  },
  {
   "cell_type": "markdown",
   "metadata": {},
   "source": [
    "### Convert Raw Data to DataFrame\n",
    "* Export the city data into a .csv.\n",
    "* Display the DataFrame"
   ]
  },
  {
   "cell_type": "code",
   "execution_count": null,
   "metadata": {},
   "outputs": [],
   "source": [
    "cities_weather_df = pd.DataFrame(city_data)\n",
    "cities_weather_df\n",
    "\n",
    "# dataframe to .csv file\n",
    "cities_weather_df.to_csv(\"../output_data/cities.csv\", index=True, index_label=\"City ID\", header=True)\n",
    "cities_weather_df.head()"
   ]
  },
  {
   "cell_type": "code",
   "execution_count": null,
   "metadata": {},
   "outputs": [],
   "source": [
    "# # create a dataframe \n",
    "# cities_weather_df = pd.DataFrame(city_data, columns=[\"City\"#: city,\n",
    "#                                 \"Country\"#: city_country,\n",
    "#                                 \"Date\"#: city_date,\n",
    "#                                 \"Lat\"#: city_lat,\n",
    "#                                 \"Lng\"#: city_lng,\n",
    "#                                 \"Max Temp (F)\"#: city_max_temp,\n",
    "#                                 \"Humidity (%)\"#: city_humidity,\n",
    "#                                 \"Cloudiness (%)\"#: city_clouds,\n",
    "#                                 \"Wind Speed (mph)\"#: city_wind,\n",
    "#                                  ])\n",
    "\n",
    "# # dataframe to .csv file\n",
    "# cities_weather_df.to_csv(\"../output_data/cities.csv\", index=True, index_label=\"City ID\", header=True)\n",
    "# cities_weather_df"
   ]
  },
  {
   "cell_type": "code",
   "execution_count": null,
   "metadata": {
    "scrolled": true
   },
   "outputs": [],
   "source": [
    "#cities_weather_df = pd.read_csv(\"C:/Users/joeki/Desktop/python-api-challenge/output_data/cities.csv\")"
   ]
  },
  {
   "cell_type": "markdown",
   "metadata": {},
   "source": [
    "## Inspect the data and remove the cities where the humidity > 100%.\n",
    "----\n",
    "Skip this step if there are no cities that have humidity > 100%. "
   ]
  },
  {
   "cell_type": "code",
   "execution_count": null,
   "metadata": {},
   "outputs": [],
   "source": [
    "humidity_over_100 = cities_weather_df.loc[cities_weather_df[\"Humidity\"] > 100, :]\n",
    "humidity_over_100\n",
    "cities_over_100 = len(cities_weather_df.loc[cities_weather_df[\"Humidity\"] > 100, :])\n",
    "print(f\"There are '{cities_over_100}' cities with over 100 percent humidity.\")"
   ]
  },
  {
   "cell_type": "code",
   "execution_count": null,
   "metadata": {},
   "outputs": [],
   "source": [
    "humidity_at_100 = cities_weather_df.loc[cities_weather_df[\"Humidity\"] >= 100, :]\n",
    "humidity_at_100\n",
    "cities_at_100 = len(cities_weather_df[\"Humidity\"])\n",
    "print(f\"There are '{cities_at_100}' cities with 100 percent humidity.\")"
   ]
  },
  {
   "cell_type": "code",
   "execution_count": null,
   "metadata": {},
   "outputs": [],
   "source": [
    "humidity_below_100 = cities_weather_df.loc[cities_weather_df[\"Humidity\"] < 100, :]\n",
    "humidity_below_100\n",
    "cities_below_100 = len(cities_weather_df.loc[cities_weather_df[\"Humidity\"] < 100, :])\n",
    "print(f\"There are '{cities_below_100}' cities below 100 percent humidity.\")"
   ]
  },
  {
   "cell_type": "markdown",
   "metadata": {},
   "source": [
    "## Plotting the Data\n",
    "* Use proper labeling of the plots using plot titles (including date of analysis) and axes labels.\n",
    "* Save the plotted figures as .pngs."
   ]
  },
  {
   "cell_type": "markdown",
   "metadata": {},
   "source": [
    "## Latitude vs. Temperature Plot"
   ]
  },
  {
   "cell_type": "code",
   "execution_count": null,
   "metadata": {
    "scrolled": true
   },
   "outputs": [],
   "source": [
    "plt.scatter(cities_weather_df[\"Lat\"], cities_weather_df[\"Max Temp\"], marker=\"o\", facecolors=\"red\", edgecolors=\"black\")\n",
    "\n",
    "plt.title(\"City Latitude vs. Max Temperature \")\n",
    "plt.ylabel(\"Max Temperature (F)\")\n",
    "plt.xlabel(\"Latitude\")\n",
    "plt.grid()\n",
    "\n",
    "plt.savefig(\"C:/Users/joeki/Desktop/python-api-challenge/output_data/fig1.png\")\n",
    "plt.show()"
   ]
  },
  {
   "cell_type": "markdown",
   "metadata": {},
   "source": [
    "## Latitude vs. Humidity Plot"
   ]
  },
  {
   "cell_type": "code",
   "execution_count": null,
   "metadata": {},
   "outputs": [],
   "source": [
    "plt.scatter(cities_weather_df[\"Lat\"], cities_weather_df[\"Humidity\"], marker=\"o\", facecolors=\"red\", edgecolors=\"black\")\n",
    "\n",
    "plt.title(\"City Latitude vs. Humidity\")\n",
    "plt.ylabel(\"Humidity\")\n",
    "plt.xlabel(\"Latitude\")\n",
    "plt.grid()\n",
    "\n",
    "plt.savefig(\"C:/Users/joeki/Desktop/python-api-challenge/output_data/fig2.png\")\n",
    "plt.show()"
   ]
  },
  {
   "cell_type": "markdown",
   "metadata": {},
   "source": [
    "## Latitude vs. Cloudiness Plot"
   ]
  },
  {
   "cell_type": "code",
   "execution_count": null,
   "metadata": {},
   "outputs": [],
   "source": [
    "plt.scatter(cities_weather_df[\"Lat\"], cities_weather_df[\"Cloudiness\"], marker=\"o\", facecolors=\"red\", edgecolors=\"black\")\n",
    "\n",
    "plt.title(\"City Latitude vs. Cloudiness\")\n",
    "plt.ylabel(\"Cloudiness\")\n",
    "plt.xlabel(\"Latitude\")\n",
    "plt.grid()\n",
    "\n",
    "plt.savefig(\"C:/Users/joeki/Desktop/python-api-challenge/output_data/fig3.png\")\n",
    "plt.show()"
   ]
  },
  {
   "cell_type": "markdown",
   "metadata": {},
   "source": [
    "## Latitude vs. Wind Speed Plot"
   ]
  },
  {
   "cell_type": "code",
   "execution_count": null,
   "metadata": {},
   "outputs": [],
   "source": [
    "plt.scatter(cities_weather_df[\"Lat\"], cities_weather_df[\"Humidity\"], marker=\"o\", facecolors=\"red\", edgecolors=\"black\")\n",
    "\n",
    "plt.title(\"City Latitude vs. Humidity\")\n",
    "plt.ylabel(\"Humidity\")\n",
    "plt.xlabel(\"Latitude\")\n",
    "plt.grid()\n",
    "\n",
    "plt.savefig(\"C:/Users/joeki/Desktop/python-api-challenge/output_data/fig4.png\")\n",
    "plt.show()"
   ]
  },
  {
   "cell_type": "markdown",
   "metadata": {},
   "source": [
    "## Linear Regression"
   ]
  },
  {
   "cell_type": "code",
   "execution_count": null,
   "metadata": {},
   "outputs": [],
   "source": [
    "northern_hemisphere_df = cities_weather_df.loc[cities_weather_df[\"Lat\"] >= 0]\n",
    "northern_hemisphere_df.head()"
   ]
  },
  {
   "cell_type": "code",
   "execution_count": null,
   "metadata": {},
   "outputs": [],
   "source": [
    "southern_hemisphere_df = cities_weather_df.loc[cities_weather_df[\"Lat\"] < 0]\n",
    "southern_hemisphere_df.head()"
   ]
  },
  {
   "cell_type": "markdown",
   "metadata": {},
   "source": [
    "####  Northern Hemisphere - Max Temp vs. Latitude Linear Regression"
   ]
  },
  {
   "cell_type": "code",
   "execution_count": null,
   "metadata": {},
   "outputs": [],
   "source": [
    "max_temp_north = northern_hemisphere_df[\"Max Temp\"]\n",
    "max_temp_north\n",
    "lat_line_regr_north = northern_hemisphere_df[\"Lat\"]\n",
    "lat_line_regr_north\n",
    "(slope, intercept, rvalue, pvalue, stderr) = linregress(lat_line_regr_north, max_temp_north)\n",
    "regress_values = lat_line_regr_north * slope + intercept\n",
    "line_eq = \"y = \" + str(round(slope,2)) + \"x + \" + str(round(intercept,2))\n",
    "plt.scatter(lat_line_regr_north,max_temp_north)\n",
    "plt.plot(lat_line_regr_north,regress_values,\"r-\")\n",
    "plt.annotate(line_eq,(6,10),fontsize=15,color=\"red\")\n",
    "plt.title(\"Northern Hemisphere - Max Temp vs. Latitude Linear Regression\")\n",
    "plt.xlabel(\"Latitude\")\n",
    "plt.ylabel(\"Max Temperature\")\n",
    "print(f\"The r-squared is: {rvalue**2} and the equation for the line is: {line_eq}\")\n",
    "plt.show()"
   ]
  },
  {
   "cell_type": "markdown",
   "metadata": {},
   "source": [
    "####  Southern Hemisphere - Max Temp vs. Latitude Linear Regression"
   ]
  },
  {
   "cell_type": "code",
   "execution_count": null,
   "metadata": {},
   "outputs": [],
   "source": [
    "max_temp_south = southern_hemisphere_df[\"Max Temp\"]\n",
    "max_temp_south\n",
    "lat_line_regr_south = southern_hemisphere_df[\"Lat\"]\n",
    "lat_line_regr_south\n",
    "(slope, intercept, rvalue, pvalue, stderr) = linregress(lat_line_regr_south, max_temp_south)\n",
    "regress_values = lat_line_regr_south * slope + intercept\n",
    "line_eq = \"y = \" + str(round(slope,2)) + \"x + \" + str(round(intercept,2))\n",
    "plt.scatter(lat_line_regr_south,max_temp_south)\n",
    "plt.plot(lat_line_regr_south,regress_values,\"r-\")\n",
    "plt.annotate(line_eq,(6,10),fontsize=15,color=\"red\")\n",
    "plt.title(\"Southern Hemisphere - Max Temp vs. Latitude Linear Regression\")\n",
    "plt.xlabel(\"Latitude\")\n",
    "plt.ylabel(\"Max Temperature\")\n",
    "print(f\"The r-squared is: {rvalue**2} and the equation for the line is: {line_eq}\")\n",
    "plt.show()"
   ]
  },
  {
   "cell_type": "markdown",
   "metadata": {},
   "source": [
    "####  Northern Hemisphere - Humidity (%) vs. Latitude Linear Regression"
   ]
  },
  {
   "cell_type": "code",
   "execution_count": null,
   "metadata": {},
   "outputs": [],
   "source": [
    "humidity_north = northern_hemisphere_df[\"Humidity\"]\n",
    "humidity_north\n",
    "lat_line_regr_north = northern_hemisphere_df[\"Lat\"]\n",
    "lat_line_regr_north\n",
    "(slope, intercept, rvalue, pvalue, stderr) = linregress(lat_line_regr_north, humidity_north)\n",
    "regress_values = lat_line_regr_north * slope + intercept\n",
    "line_eq = \"y = \" + str(round(slope,2)) + \"x + \" + str(round(intercept,2))\n",
    "plt.scatter(lat_line_regr_north,humidity_north)\n",
    "plt.plot(lat_line_regr_north,regress_values,\"r-\")\n",
    "plt.annotate(line_eq,(6,10),fontsize=15,color=\"red\")\n",
    "plt.title(\"Northern Hemisphere - Humidity (%) vs. Latitude Linear Regression\")\n",
    "plt.xlabel(\"Latitude\")\n",
    "plt.ylabel(\"Humidity (%) \")\n",
    "print(f\"The r-squared is: {rvalue**2} and the equation for the line is: {line_eq}\")\n",
    "plt.show()"
   ]
  },
  {
   "cell_type": "markdown",
   "metadata": {},
   "source": [
    "####  Southern Hemisphere - Humidity (%) vs. Latitude Linear Regression"
   ]
  },
  {
   "cell_type": "code",
   "execution_count": null,
   "metadata": {},
   "outputs": [],
   "source": [
    "humidity_south = southern_hemisphere_df[\"Humidity\"]\n",
    "humidity_south\n",
    "lat_line_regr_south = southern_hemisphere_df[\"Lat\"]\n",
    "lat_line_regr_south\n",
    "(slope, intercept, rvalue, pvalue, stderr) = linregress(lat_line_regr_south, humidity_south)\n",
    "regress_values = lat_line_regr_south * slope + intercept\n",
    "line_eq = \"y = \" + str(round(slope,2)) + \"x + \" + str(round(intercept,2))\n",
    "plt.scatter(lat_line_regr_south,humidity_south)\n",
    "plt.plot(lat_line_regr_south,regress_values,\"r-\")\n",
    "plt.annotate(line_eq,(6,10),fontsize=15,color=\"red\")\n",
    "plt.title(\"Southern Hemisphere - Humidity (%) vs. Latitude Linear Regression\")\n",
    "plt.xlabel(\"Latitude\")\n",
    "plt.ylabel(\"Humidity (%)\")\n",
    "print(f\"The r-squared is: {rvalue**2} and the equation for the line is: {line_eq}\")\n",
    "plt.show()"
   ]
  },
  {
   "cell_type": "markdown",
   "metadata": {},
   "source": [
    "####  Northern Hemisphere - Cloudiness (%) vs. Latitude Linear Regression"
   ]
  },
  {
   "cell_type": "code",
   "execution_count": null,
   "metadata": {},
   "outputs": [],
   "source": [
    "cloudiness_north = northern_hemisphere_df[\"Cloudiness\"]\n",
    "cloudiness_north\n",
    "lat_line_regr_north = northern_hemisphere_df[\"Lat\"]\n",
    "lat_line_regr_north\n",
    "(slope, intercept, rvalue, pvalue, stderr) = linregress(lat_line_regr_north, cloudiness_north)\n",
    "regress_values = lat_line_regr_north * slope + intercept\n",
    "line_eq = \"y = \" + str(round(slope,2)) + \"x + \" + str(round(intercept,2))\n",
    "plt.scatter(lat_line_regr_north,cloudiness_north)\n",
    "plt.plot(lat_line_regr_north,regress_values,\"r-\")\n",
    "plt.annotate(line_eq,(6,10),fontsize=15,color=\"red\")\n",
    "plt.title(\"Northern Hemisphere - Cloudiness (%) vs. Latitude Linear Regression\")\n",
    "plt.xlabel(\"Latitude\")\n",
    "plt.ylabel(\"Cloudiness (%)\")\n",
    "print(f\"The r-squared is: {rvalue**2} and the equation for the line is: {line_eq}\")\n",
    "plt.show()"
   ]
  },
  {
   "cell_type": "markdown",
   "metadata": {},
   "source": [
    "####  Southern Hemisphere - Cloudiness (%) vs. Latitude Linear Regression"
   ]
  },
  {
   "cell_type": "code",
   "execution_count": null,
   "metadata": {},
   "outputs": [],
   "source": [
    "cloudiness_south = southern_hemisphere_df[\"Cloudiness\"]\n",
    "cloudiness_south\n",
    "lat_line_regr_south = southern_hemisphere_df[\"Lat\"]\n",
    "lat_line_regr_south\n",
    "(slope, intercept, rvalue, pvalue, stderr) = linregress(lat_line_regr_south, cloudiness_south)\n",
    "regress_values = lat_line_regr_south * slope + intercept\n",
    "line_eq = \"y = \" + str(round(slope,2)) + \"x + \" + str(round(intercept,2))\n",
    "plt.scatter(lat_line_regr_south,cloudiness_south)\n",
    "plt.plot(lat_line_regr_south,regress_values,\"r-\")\n",
    "plt.annotate(line_eq,(6,10),fontsize=15,color=\"red\")\n",
    "plt.title(\"Southern Hemisphere - Cloudiness (%) vs. Latitude Linear Regression\")\n",
    "plt.xlabel(\"Latitude\")\n",
    "plt.ylabel(\"Cloudiness (%)\")\n",
    "print(f\"The r-squared is: {rvalue**2} and the equation for the line is: {line_eq}\")\n",
    "plt.show()"
   ]
  },
  {
   "cell_type": "markdown",
   "metadata": {},
   "source": [
    "####  Northern Hemisphere - Wind Speed (mph) vs. Latitude Linear Regression"
   ]
  },
  {
   "cell_type": "code",
   "execution_count": null,
   "metadata": {},
   "outputs": [],
   "source": [
    "wind_speed_north = northern_hemisphere_df[\"Wind Speed\"]\n",
    "wind_speed_north\n",
    "lat_line_regr_north = northern_hemisphere_df[\"Lat\"]\n",
    "lat_line_regr_north\n",
    "(slope, intercept, rvalue, pvalue, stderr) = linregress(lat_line_regr_north, wind_speed_north)\n",
    "regress_values = lat_line_regr_north * slope + intercept\n",
    "line_eq = \"y = \" + str(round(slope,2)) + \"x + \" + str(round(intercept,2))\n",
    "plt.scatter(lat_line_regr_north,wind_speed_north)\n",
    "plt.plot(lat_line_regr_north,regress_values,\"r-\")\n",
    "plt.annotate(line_eq,(6,10),fontsize=15,color=\"red\")\n",
    "plt.title(\"Northern Hemisphere - Wind Speed (mph) vs. Latitude Linear Regression\")\n",
    "plt.xlabel(\"Latitude\")\n",
    "plt.ylabel(\"Wind Speed (mph)\")\n",
    "print(f\"The r-squared is: {rvalue**2} and the equation for the line is: {line_eq}\")\n",
    "plt.show()\n",
    "line_eq"
   ]
  },
  {
   "cell_type": "markdown",
   "metadata": {},
   "source": [
    "####  Southern Hemisphere - Wind Speed (mph) vs. Latitude Linear Regression"
   ]
  },
  {
   "cell_type": "code",
   "execution_count": null,
   "metadata": {},
   "outputs": [],
   "source": [
    "wind_speed_south = southern_hemisphere_df[\"Wind Speed\"]\n",
    "wind_speed_south\n",
    "lat_line_regr_south = southern_hemisphere_df[\"Lat\"]\n",
    "lat_line_regr_south\n",
    "(slope, intercept, rvalue, pvalue, stderr) = linregress(lat_line_regr_south, wind_speed_south)\n",
    "regress_values = lat_line_regr_south * slope + intercept\n",
    "line_eq = \"y = \" + str(round(slope,2)) + \"x + \" + str(round(intercept,2))\n",
    "plt.scatter(lat_line_regr_south,wind_speed_south)\n",
    "plt.plot(lat_line_regr_south,regress_values,\"r-\")\n",
    "plt.annotate(line_eq,(6,10),fontsize=15,color=\"red\")\n",
    "plt.title(\"Southern Hemisphere - Wind Speed (mph) vs. Latitude Linear Regression\")\n",
    "plt.xlabel(\"Latitude\")\n",
    "plt.ylabel(\"Wind Speed (mph)\")\n",
    "print(f\"The r-squared is: {rvalue**2} and the equation for the line is: {line_eq}\")\n",
    "plt.show()"
   ]
  },
  {
   "cell_type": "code",
   "execution_count": null,
   "metadata": {},
   "outputs": [],
   "source": []
  },
  {
   "cell_type": "code",
   "execution_count": null,
   "metadata": {},
   "outputs": [],
   "source": []
  }
 ],
 "metadata": {
  "anaconda-cloud": {},
  "kernel_info": {
   "name": "python3"
  },
  "kernelspec": {
   "display_name": "Python 3",
   "language": "python",
   "name": "python3"
  },
  "language_info": {
   "codemirror_mode": {
    "name": "ipython",
    "version": 3
   },
   "file_extension": ".py",
   "mimetype": "text/x-python",
   "name": "python",
   "nbconvert_exporter": "python",
   "pygments_lexer": "ipython3",
   "version": "3.8.5"
  },
  "latex_envs": {
   "LaTeX_envs_menu_present": true,
   "autoclose": false,
   "autocomplete": true,
   "bibliofile": "biblio.bib",
   "cite_by": "apalike",
   "current_citInitial": 1,
   "eqLabelWithNumbers": true,
   "eqNumInitial": 1,
   "hotkeys": {
    "equation": "Ctrl-E",
    "itemize": "Ctrl-I"
   },
   "labels_anchors": false,
   "latex_user_defs": false,
   "report_style_numbering": false,
   "user_envs_cfg": false
  },
  "nteract": {
   "version": "0.12.3"
  }
 },
 "nbformat": 4,
 "nbformat_minor": 2
}
